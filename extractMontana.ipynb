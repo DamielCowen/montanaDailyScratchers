{
 "cells": [
  {
   "cell_type": "code",
   "execution_count": 3,
   "metadata": {},
   "outputs": [
    {
     "name": "stderr",
     "output_type": "stream",
     "text": [
      "<ipython-input-3-a0bb33defacf>:17: DeprecationWarning: use options instead of chrome_options\n",
      "  driver = webdriver.Chrome(path_to_chromeDriver,chrome_options=chrome_options)\n"
     ]
    }
   ],
   "source": [
    "import json\n",
    "from selenium import webdriver\n",
    "from bs4 import BeautifulSoup\n",
    "from datetime import datetime\n",
    "\n",
    "\n",
    "path_to_chromeDriver = '/Users/drahcir1/Documents/chromedriver'\n",
    "url = 'https://www.montanalottery.com/en/view/scratch'\n",
    "\n",
    "# disables chrome from loading images \n",
    "# https://stackoverflow.com/questions/28070315/python-disable-images-in-selenium-google-chromedriver\n",
    "chrome_options = webdriver.ChromeOptions()\n",
    "prefs = {\"profile.managed_default_content_settings.images\": 2}\n",
    "chrome_options.add_experimental_option(\"prefs\", prefs)\n",
    "\n",
    "#creates a selenium chrome driver\n",
    "driver = webdriver.Chrome(path_to_chromeDriver,chrome_options=chrome_options)\n",
    "driver.implicitly_wait(5)\n",
    "driver.get(url)\n",
    "\n",
    "soup = BeautifulSoup(driver.page_source)\n",
    "scratchGameLobby = soup.find(\"div\",{\"class\":\"scratch-game-lobby row remove-gutter bgg-main\"}) #finds the center column with all game data\n",
    "scratchGameResultSet = scratchGameLobby.findAll(\"div\",{\"class\":\"row scratch-game pad50 mg0\"}) #splits games into a BS resultset\n",
    "\n",
    "def getGameName(gameTag):\n",
    "    '''\n",
    "    takes a scratchGameResultSet:gameTag(bs4.tag) and rethrns the name of the str(game)\n",
    "    '''\n",
    "    return gameTag.find(\"span\",{\"class\":\"scratch-game-title cr-main text-uppercase pull-left\"}).text\n",
    "\n",
    "def getGameOverallOdds(gameTag):\n",
    "    return gameTag.find(\"td\", {\"class\":\"text-center text-uppercase overall-odds\"}).text\n",
    "\n",
    "def getGamePrice(gameTag):\n",
    "    parent = gameTag.find_parent()\n",
    "    return parent.h2.text\n",
    "\n",
    "def getGameRowData(gameTag):\n",
    "    tbody =gameTag.tbody\n",
    "    output = []\n",
    "    rows = tbody.findAll('tr')\n",
    "    for row in rows[:-1]:\n",
    "        output.append({list(row.children)[1]['data-bind'].strip('text: '):list(row.children)[1].text, #win\n",
    "         list(row.children)[3]['data-bind'].strip('text: '):list(row.children)[3].text, #priz\n",
    "         list(row.children)[5]['data-bind'].strip('text: '):list(row.children)[5].text,  #odds   \n",
    "        })\n",
    "    return output\n",
    "\n",
    "today = datetime.today().strftime('%Y%m%d')\n",
    "games_data = {\"date\":today}\n",
    "game_data = []\n",
    "\n",
    "for gameTag in scratchGameResultSet:\n",
    "    output = {}\n",
    "    output['name'] = getGameName(gameTag)\n",
    "    output['overallOdds'] = getGameOverallOdds(gameTag)\n",
    "    output[\"price\"] = getGamePrice(gameTag)\n",
    "    output['data'] = getGameRowData(gameTag)\n",
    "    game_data.append(output)\n",
    "    \n",
    "games_data['data'] = game_data\n",
    "\n",
    "with open(f'data/montana/{today}_scratchers.json', 'w') as fp:\n",
    "    json.dump(games_data, fp)"
   ]
  },
  {
   "cell_type": "code",
   "execution_count": null,
   "metadata": {},
   "outputs": [],
   "source": []
  }
 ],
 "metadata": {
  "kernelspec": {
   "display_name": "Python 3",
   "language": "python",
   "name": "python3"
  },
  "language_info": {
   "codemirror_mode": {
    "name": "ipython",
    "version": 3
   },
   "file_extension": ".py",
   "mimetype": "text/x-python",
   "name": "python",
   "nbconvert_exporter": "python",
   "pygments_lexer": "ipython3",
   "version": "3.8.5"
  }
 },
 "nbformat": 4,
 "nbformat_minor": 4
}
