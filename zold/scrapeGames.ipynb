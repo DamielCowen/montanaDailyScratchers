{
 "cells": [
  {
   "cell_type": "code",
   "execution_count": 30,
   "metadata": {},
   "outputs": [],
   "source": [
    "from selenium import webdriver\n",
    "from datetime import datetime\n",
    "\n",
    "path_to_chromeDriver = '/Users/drahcir1/Documents/chromedriver' \n",
    "url = 'https://www.montanalottery.com/en/view/scratch'\n",
    "\n",
    "driver = webdriver.Chrome(path_to_chromeDriver)\n",
    "driver.get(url)\n",
    "driver.implicitly_wait(5)\n",
    "\n",
    "one_dollar_button = driver.find_element_by_xpath('/html/body/div[2]/div/div[2]/div[2]/div/div/ul/li[1]/a')\n",
    "one_dollar_button.click()\n",
    "one_dollar_data = driver.page_source\n",
    "\n",
    "twenty_dollar_button = driver.find_element_by_xpath('/html/body/div[2]/div/div[2]/div[2]/div/div/ul/li[6]/a')\n",
    "twenty_dollar_button.click()\n",
    "twenty_dollar_data = driver.page_source\n",
    "\n",
    "driver.close()\n",
    "\n",
    "today = datetime.today().strftime('%Y%m%d')\n",
    "with open (f\"data/{today}_one_dollar.html\", \"w\") as file:\n",
    "    file.write(one_dollar_data)\n",
    "with open (f\"data/{today}_twenty_dollar.html\", \"w\") as file:\n",
    "    file.write(twenty_dollar_data)"
   ]
  },
  {
   "cell_type": "code",
   "execution_count": 44,
   "metadata": {},
   "outputs": [],
   "source": [
    "driver = webdriver.Chrome(path_to_chromeDriver)\n"
   ]
  },
  {
   "cell_type": "code",
   "execution_count": 45,
   "metadata": {},
   "outputs": [],
   "source": [
    "driver.get(url)\n",
    "driver.implicitly_wait(5)\n"
   ]
  },
  {
   "cell_type": "code",
   "execution_count": 52,
   "metadata": {},
   "outputs": [],
   "source": [
    "button = driver.find_element_by_xpath('/html/body/div[2]/div/div[2]/div[2]/div/div/ul/li[3]/a')\n",
    "button.click()"
   ]
  },
  {
   "cell_type": "code",
   "execution_count": 36,
   "metadata": {},
   "outputs": [],
   "source": [
    "def scrapePage(driver, name, button_xpath):\n",
    "    button = driver.find_element_by_xpath(button_xpath)\n",
    "    button.click()\n",
    "    return driver.page_source\n",
    "\n",
    "def saveHTML(name, page_contents):\n",
    "    today = datetime.today().strftime('%Y%m%d')\n",
    "    with open (f\"data/{today}_{name}.html\", \"w\") as file:\n",
    "        file.write(page_contents)"
   ]
  },
  {
   "cell_type": "code",
   "execution_count": 37,
   "metadata": {},
   "outputs": [],
   "source": [
    "def scrapePage(driver, name, button_xpath):\n",
    "    button = driver.find_element_by_xpath(button_xpath)\n",
    "    button.click()\n",
    "    return driver.page_source\n",
    "\n",
    "def saveHTML(name, page_contents):\n",
    "    today = datetime.today().strftime('%Y%m%d')\n",
    "    with open (f\"data/{today}_{name}.html\", \"w\") as file:\n",
    "        file.write(page_contents)\n",
    "\n",
    "\n",
    "def scrapeAllGames(driver, names_list, button_xpaths_list, url = 'https://www.montanalottery.com/en/view/scratch'):\n",
    "    driver.get(url)    \n",
    "    for name, xpath in zip(names_list,button_xpaths_list):\n",
    "        saveHTML(name, scrapePage(driver, name, xpath))\n",
    "        \n",
    "        \n",
    "names_list = ['one_dollar','two_dollar','three_dollar','five_dollar','ten_dollar','twenty_dollar']\n",
    "button_xpaths_list = ['/html/body/div[2]/div/div[2]/div[2]/div/div/ul/li[1]/a',\n",
    "                      '/html/body/div[2]/div/div[2]/div[2]/div/div/ul/li[2]/a',\n",
    "                      '/html/body/div[2]/div/div[2]/div[2]/div/div/ul/li[3]/a',\n",
    "                      '/html/body/div[2]/div/div[2]/div[2]/div/div/ul/li[4]/a',\n",
    "                      '/html/body/div[2]/div/div[2]/div[2]/div/div/ul/li[5]/a',\n",
    "                      '/html/body/div[2]/div/div[2]/div[2]/div/div/ul/li[6]/a']\n",
    "\n",
    "driver = webdriver.Chrome(path_to_chromeDriver)\n",
    "scrapeAllGames(driver,names_list,button_xpaths_list)\n",
    "        \n",
    "\n",
    "        \n",
    "    "
   ]
  },
  {
   "cell_type": "code",
   "execution_count": null,
   "metadata": {},
   "outputs": [],
   "source": []
  }
 ],
 "metadata": {
  "kernelspec": {
   "display_name": "Python 3",
   "language": "python",
   "name": "python3"
  },
  "language_info": {
   "codemirror_mode": {
    "name": "ipython",
    "version": 3
   },
   "file_extension": ".py",
   "mimetype": "text/x-python",
   "name": "python",
   "nbconvert_exporter": "python",
   "pygments_lexer": "ipython3",
   "version": "3.8.5"
  }
 },
 "nbformat": 4,
 "nbformat_minor": 4
}
