{
 "cells": [
  {
   "cell_type": "code",
   "execution_count": 1,
   "metadata": {},
   "outputs": [],
   "source": [
    "import json\n",
    "from selenium import webdriver\n",
    "from bs4 import BeautifulSoup\n",
    "from datetime import datetime\n",
    "\n"
   ]
  },
  {
   "cell_type": "code",
   "execution_count": 70,
   "metadata": {},
   "outputs": [],
   "source": [
    "def getOregonScatchGameLinks(driver):\n",
    "    driver.get(url)\n",
    "    gameDetailsDict = driver.execute_script(\"return scratchIts\")\n",
    "    return gameDetailsDict\n",
    "\n",
    "    \n",
    "def getGameData(driver, url):\n",
    "    driver.get(url)\n",
    "    return driver.execute_script(\"return scratchGame\")\n",
    "\n",
    "\n",
    "# disables chrome from loading images \n",
    "# https://stackoverflow.com/questions/28070315/python-disable-images-in-selenium-google-chromedriver\n",
    "chrome_options = webdriver.ChromeOptions()\n",
    "prefs = {\"profile.managed_default_content_settings.images\": 2}\n",
    "chrome_options.add_experimental_option(\"prefs\", prefs)\n",
    "\n",
    "#creates a selenium chrome driver\n",
    "path_to_chromeDriver = '/Users/drahcir1/Documents/chromedriver'\n",
    "driver = webdriver.Chrome(path_to_chromeDriver,options=chrome_options)\n",
    "driver.implicitly_wait(5)\n",
    "\n",
    "url = \"https://www.oregonlottery.org/scratch-its/grid/\"\n",
    "driver.get(url)\n",
    "\n",
    "#contains links to individual games\n",
    "gameMetaData = getOregonScatchGameLinks(driver)\n",
    "\n",
    "gamesData = [getGameData(driver, game[\"link\"]) for game in gameMetaData]\n",
    "\n",
    "\n",
    "today = datetime.today().strftime('%Y%m%d')\n",
    "with open(f'data/oregon/{today}_scratchers.json', 'w') as fp:\n",
    "    json.dump(games_data, fp)\n",
    "\n"
   ]
  },
  {
   "cell_type": "code",
   "execution_count": 75,
   "metadata": {},
   "outputs": [],
   "source": [
    "today = datetime.today().strftime('%Y%m%d')\n",
    "with open(f'data/oregon/{today}_ORscratchers.json', 'w') as fp:\n",
    "    json.dump(gamesData, fp)\n"
   ]
  },
  {
   "cell_type": "markdown",
   "metadata": {},
   "source": [
    "\n",
    "class extract():\n",
    "    \n",
    "    \n",
    "    def __init__(self, url, state):\n",
    "        self.state=state\n",
    "        path_to_chromeDriver = '/Users/drahcir1/Documents/chromedriver'\n",
    "        # disables chrome from loading images \n",
    "        # https://stackoverflow.com/questions/28070315/python-disable-images-in-selenium-google-chromedriver\n",
    "        chrome_options = webdriver.ChromeOptions()\n",
    "        prefs = {\"profile.managed_default_content_settings.images\": 2}\n",
    "        chrome_options.add_experimental_option(\"prefs\", prefs)\n",
    "        #creates a selenium chrome driver\n",
    "        self.driver = webdriver.Chrome(path_to_chromeDriver,options=chrome_options)\n",
    "        self.driver.implicitly_wait(5)\n",
    "        self.driver.get(url)\n",
    "        self.makeSoup()\n",
    "        self.driver.close()        \n",
    "    \n",
    "    \n",
    "    def makeSoup(self):\n",
    "        self.soup = BeautifulSoup(self.driver.page_source)\n",
    "        \n",
    "        \n",
    "    def saveJson(self):\n",
    "        today = datetime.today().strftime('%Y%m%d')\n",
    "        with open(f'data/{self.state}/{today}_scratchers.json', 'w') as fp:\n",
    "            json.dump(games_data, fp)\n",
    "        \n",
    "        "
   ]
  }
 ],
 "metadata": {
  "kernelspec": {
   "display_name": "Python 3",
   "language": "python",
   "name": "python3"
  },
  "language_info": {
   "codemirror_mode": {
    "name": "ipython",
    "version": 3
   },
   "file_extension": ".py",
   "mimetype": "text/x-python",
   "name": "python",
   "nbconvert_exporter": "python",
   "pygments_lexer": "ipython3",
   "version": "3.8.5"
  }
 },
 "nbformat": 4,
 "nbformat_minor": 4
}
